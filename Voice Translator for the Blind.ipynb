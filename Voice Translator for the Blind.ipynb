{
 "cells": [
  {
   "cell_type": "code",
   "execution_count": 1,
   "id": "9a9abfe1-97f0-46d7-b25e-8a2012f631e0",
   "metadata": {
    "tags": []
   },
   "outputs": [
    {
     "name": "stdout",
     "output_type": "stream",
     "text": [
      "Requirement already satisfied: googletrans==3.1.0a0 in c:\\users\\bhasi\\anaconda3\\lib\\site-packages (3.1.0a0)\n",
      "Requirement already satisfied: httpx==0.13.3 in c:\\users\\bhasi\\anaconda3\\lib\\site-packages (from googletrans==3.1.0a0) (0.13.3)\n",
      "Requirement already satisfied: certifi in c:\\users\\bhasi\\anaconda3\\lib\\site-packages (from httpx==0.13.3->googletrans==3.1.0a0) (2023.11.17)\n",
      "Requirement already satisfied: hstspreload in c:\\users\\bhasi\\anaconda3\\lib\\site-packages (from httpx==0.13.3->googletrans==3.1.0a0) (2024.1.5)\n",
      "Requirement already satisfied: sniffio in c:\\users\\bhasi\\anaconda3\\lib\\site-packages (from httpx==0.13.3->googletrans==3.1.0a0) (1.2.0)\n",
      "Requirement already satisfied: chardet==3.* in c:\\users\\bhasi\\anaconda3\\lib\\site-packages (from httpx==0.13.3->googletrans==3.1.0a0) (3.0.4)\n",
      "Requirement already satisfied: idna==2.* in c:\\users\\bhasi\\anaconda3\\lib\\site-packages (from httpx==0.13.3->googletrans==3.1.0a0) (2.10)\n",
      "Requirement already satisfied: rfc3986<2,>=1.3 in c:\\users\\bhasi\\anaconda3\\lib\\site-packages (from httpx==0.13.3->googletrans==3.1.0a0) (1.5.0)\n",
      "Requirement already satisfied: httpcore==0.9.* in c:\\users\\bhasi\\anaconda3\\lib\\site-packages (from httpx==0.13.3->googletrans==3.1.0a0) (0.9.1)\n",
      "Requirement already satisfied: h11<0.10,>=0.8 in c:\\users\\bhasi\\anaconda3\\lib\\site-packages (from httpcore==0.9.*->httpx==0.13.3->googletrans==3.1.0a0) (0.9.0)\n",
      "Requirement already satisfied: h2==3.* in c:\\users\\bhasi\\anaconda3\\lib\\site-packages (from httpcore==0.9.*->httpx==0.13.3->googletrans==3.1.0a0) (3.2.0)\n",
      "Requirement already satisfied: hyperframe<6,>=5.2.0 in c:\\users\\bhasi\\anaconda3\\lib\\site-packages (from h2==3.*->httpcore==0.9.*->httpx==0.13.3->googletrans==3.1.0a0) (5.2.0)\n",
      "Requirement already satisfied: hpack<4,>=3.0 in c:\\users\\bhasi\\anaconda3\\lib\\site-packages (from h2==3.*->httpcore==0.9.*->httpx==0.13.3->googletrans==3.1.0a0) (3.0.0)\n"
     ]
    }
   ],
   "source": [
    "!pip install googletrans==3.1.0a0"
   ]
  },
  {
   "cell_type": "code",
   "execution_count": 2,
   "id": "7c0efb5e-a0ba-4642-9bb4-81eb214ef9f4",
   "metadata": {
    "tags": []
   },
   "outputs": [],
   "source": [
    "import googletrans"
   ]
  },
  {
   "cell_type": "code",
   "execution_count": 3,
   "id": "db42cf97-ba1c-4c48-9b7d-6f07473ad326",
   "metadata": {
    "tags": []
   },
   "outputs": [
    {
     "name": "stdout",
     "output_type": "stream",
     "text": [
      "{'af': 'afrikaans', 'sq': 'albanian', 'am': 'amharic', 'ar': 'arabic', 'hy': 'armenian', 'az': 'azerbaijani', 'eu': 'basque', 'be': 'belarusian', 'bn': 'bengali', 'bs': 'bosnian', 'bg': 'bulgarian', 'ca': 'catalan', 'ceb': 'cebuano', 'ny': 'chichewa', 'zh-cn': 'chinese (simplified)', 'zh-tw': 'chinese (traditional)', 'co': 'corsican', 'hr': 'croatian', 'cs': 'czech', 'da': 'danish', 'nl': 'dutch', 'en': 'english', 'eo': 'esperanto', 'et': 'estonian', 'tl': 'filipino', 'fi': 'finnish', 'fr': 'french', 'fy': 'frisian', 'gl': 'galician', 'ka': 'georgian', 'de': 'german', 'el': 'greek', 'gu': 'gujarati', 'ht': 'haitian creole', 'ha': 'hausa', 'haw': 'hawaiian', 'iw': 'hebrew', 'he': 'hebrew', 'hi': 'hindi', 'hmn': 'hmong', 'hu': 'hungarian', 'is': 'icelandic', 'ig': 'igbo', 'id': 'indonesian', 'ga': 'irish', 'it': 'italian', 'ja': 'japanese', 'jw': 'javanese', 'kn': 'kannada', 'kk': 'kazakh', 'km': 'khmer', 'ko': 'korean', 'ku': 'kurdish (kurmanji)', 'ky': 'kyrgyz', 'lo': 'lao', 'la': 'latin', 'lv': 'latvian', 'lt': 'lithuanian', 'lb': 'luxembourgish', 'mk': 'macedonian', 'mg': 'malagasy', 'ms': 'malay', 'ml': 'malayalam', 'mt': 'maltese', 'mi': 'maori', 'mr': 'marathi', 'mn': 'mongolian', 'my': 'myanmar (burmese)', 'ne': 'nepali', 'no': 'norwegian', 'or': 'odia', 'ps': 'pashto', 'fa': 'persian', 'pl': 'polish', 'pt': 'portuguese', 'pa': 'punjabi', 'ro': 'romanian', 'ru': 'russian', 'sm': 'samoan', 'gd': 'scots gaelic', 'sr': 'serbian', 'st': 'sesotho', 'sn': 'shona', 'sd': 'sindhi', 'si': 'sinhala', 'sk': 'slovak', 'sl': 'slovenian', 'so': 'somali', 'es': 'spanish', 'su': 'sundanese', 'sw': 'swahili', 'sv': 'swedish', 'tg': 'tajik', 'ta': 'tamil', 'te': 'telugu', 'th': 'thai', 'tr': 'turkish', 'uk': 'ukrainian', 'ur': 'urdu', 'ug': 'uyghur', 'uz': 'uzbek', 'vi': 'vietnamese', 'cy': 'welsh', 'xh': 'xhosa', 'yi': 'yiddish', 'yo': 'yoruba', 'zu': 'zulu'}\n"
     ]
    }
   ],
   "source": [
    "print(googletrans.LANGUAGES)"
   ]
  },
  {
   "cell_type": "code",
   "execution_count": 7,
   "id": "d0f7c13d-3855-479b-8fd7-b4ffec835f7e",
   "metadata": {
    "tags": []
   },
   "outputs": [
    {
     "name": "stdin",
     "output_type": "stream",
     "text": [
      " hello\n"
     ]
    }
   ],
   "source": [
    "translator = googletrans.Translator()\n",
    "text = input()\n",
    "translation = translator.translate(text, dest = \"de\")"
   ]
  },
  {
   "cell_type": "code",
   "execution_count": 8,
   "id": "7cc53f3a-dadc-4e52-9153-ebbd2f920fdf",
   "metadata": {
    "tags": []
   },
   "outputs": [
    {
     "name": "stdout",
     "output_type": "stream",
     "text": [
      "Translated(src=en, dest=de, text=Hallo, pronunciation=None, extra_data=\"{'translat...\")\n"
     ]
    }
   ],
   "source": [
    "print(translation)"
   ]
  },
  {
   "cell_type": "code",
   "execution_count": 9,
   "id": "fe3a4e74-53bf-454b-a76c-7e7bab91353c",
   "metadata": {
    "tags": []
   },
   "outputs": [
    {
     "name": "stdout",
     "output_type": "stream",
     "text": [
      "Requirement already satisfied: SpeechRecognition in c:\\users\\bhasi\\anaconda3\\lib\\site-packages (3.10.1)\n",
      "Requirement already satisfied: requests>=2.26.0 in c:\\users\\bhasi\\anaconda3\\lib\\site-packages (from SpeechRecognition) (2.31.0)\n",
      "Requirement already satisfied: typing-extensions in c:\\users\\bhasi\\anaconda3\\lib\\site-packages (from SpeechRecognition) (4.7.1)\n",
      "Requirement already satisfied: charset-normalizer<4,>=2 in c:\\users\\bhasi\\anaconda3\\lib\\site-packages (from requests>=2.26.0->SpeechRecognition) (2.0.4)\n",
      "Requirement already satisfied: idna<4,>=2.5 in c:\\users\\bhasi\\anaconda3\\lib\\site-packages (from requests>=2.26.0->SpeechRecognition) (2.10)\n",
      "Requirement already satisfied: urllib3<3,>=1.21.1 in c:\\users\\bhasi\\anaconda3\\lib\\site-packages (from requests>=2.26.0->SpeechRecognition) (1.26.16)\n",
      "Requirement already satisfied: certifi>=2017.4.17 in c:\\users\\bhasi\\anaconda3\\lib\\site-packages (from requests>=2.26.0->SpeechRecognition) (2023.11.17)\n"
     ]
    }
   ],
   "source": [
    "!pip install SpeechRecognition"
   ]
  },
  {
   "cell_type": "code",
   "execution_count": 10,
   "id": "2f051aec-8f20-4670-b60a-22a5e1d108ed",
   "metadata": {
    "tags": []
   },
   "outputs": [
    {
     "name": "stdout",
     "output_type": "stream",
     "text": [
      "Requirement already satisfied: pyaudio in c:\\users\\bhasi\\anaconda3\\lib\\site-packages (0.2.14)\n"
     ]
    }
   ],
   "source": [
    "!pip install pyaudio"
   ]
  },
  {
   "cell_type": "code",
   "execution_count": 11,
   "id": "845874b5-3dc6-46ef-9772-1723342cea26",
   "metadata": {
    "tags": []
   },
   "outputs": [],
   "source": [
    "import speech_recognition"
   ]
  },
  {
   "cell_type": "code",
   "execution_count": 12,
   "id": "e34fae2a-e9ce-4c9d-aa7b-322627aa302e",
   "metadata": {
    "tags": []
   },
   "outputs": [],
   "source": [
    "recognizer = speech_recognition.Recognizer()"
   ]
  },
  {
   "cell_type": "code",
   "execution_count": 13,
   "id": "d2fa682f-cd33-41c8-9c5a-187af67bd576",
   "metadata": {
    "tags": []
   },
   "outputs": [
    {
     "name": "stdout",
     "output_type": "stream",
     "text": [
      "Requirement already satisfied: gTTS in c:\\users\\bhasi\\anaconda3\\lib\\site-packages (2.5.0)\n",
      "Requirement already satisfied: requests<3,>=2.27 in c:\\users\\bhasi\\anaconda3\\lib\\site-packages (from gTTS) (2.31.0)\n",
      "Requirement already satisfied: click<8.2,>=7.1 in c:\\users\\bhasi\\anaconda3\\lib\\site-packages (from gTTS) (8.0.4)\n",
      "Requirement already satisfied: colorama in c:\\users\\bhasi\\appdata\\roaming\\python\\python311\\site-packages (from click<8.2,>=7.1->gTTS) (0.4.6)\n",
      "Requirement already satisfied: charset-normalizer<4,>=2 in c:\\users\\bhasi\\anaconda3\\lib\\site-packages (from requests<3,>=2.27->gTTS) (2.0.4)\n",
      "Requirement already satisfied: idna<4,>=2.5 in c:\\users\\bhasi\\anaconda3\\lib\\site-packages (from requests<3,>=2.27->gTTS) (2.10)\n",
      "Requirement already satisfied: urllib3<3,>=1.21.1 in c:\\users\\bhasi\\anaconda3\\lib\\site-packages (from requests<3,>=2.27->gTTS) (1.26.16)\n",
      "Requirement already satisfied: certifi>=2017.4.17 in c:\\users\\bhasi\\anaconda3\\lib\\site-packages (from requests<3,>=2.27->gTTS) (2023.11.17)\n"
     ]
    }
   ],
   "source": [
    "!pip install gTTS"
   ]
  },
  {
   "cell_type": "code",
   "execution_count": 14,
   "id": "f288dc10-4f0f-4579-a7ac-172127dbf27f",
   "metadata": {
    "tags": []
   },
   "outputs": [],
   "source": [
    "import gtts"
   ]
  },
  {
   "cell_type": "code",
   "execution_count": 15,
   "id": "a637a776-c1bf-4c1e-8ed6-f9e110bebc93",
   "metadata": {
    "tags": []
   },
   "outputs": [
    {
     "name": "stdout",
     "output_type": "stream",
     "text": [
      "Speak now\n",
      "how are you\n",
      "Wie geht es dir\n"
     ]
    }
   ],
   "source": [
    "with speech_recognition.Microphone() as source:\n",
    "  print(\"Speak now\")\n",
    "  voice = recognizer.listen(source)\n",
    "  text = recognizer.recognize_google(voice, language = \"de\")\n",
    "  print(text)\n",
    "translator = googletrans.Translator()\n",
    "translation = translator.translate(text, dest = \"de\")\n",
    "print(translation.text)"
   ]
  },
  {
   "cell_type": "code",
   "execution_count": 16,
   "id": "9b5acef7-c49a-4d3a-9f97-f47078fb4f38",
   "metadata": {},
   "outputs": [
    {
     "name": "stdout",
     "output_type": "stream",
     "text": [
      "Audio saved as hello.mp3\n"
     ]
    }
   ],
   "source": [
    "from gtts import gTTS\n",
    "\n",
    "converted_audio = gTTS(translation.text, lang=\"de\")\n",
    "file_name = \"hello.mp3\"\n",
    "with open(file_name, \"wb\") as f:\n",
    "    converted_audio.write_to_fp(f)\n",
    "\n",
    "print(f\"Audio saved as {file_name}\")"
   ]
  },
  {
   "cell_type": "code",
   "execution_count": 19,
   "id": "946e47d7-4a97-44f5-b47d-756f930c4f80",
   "metadata": {
    "tags": []
   },
   "outputs": [
    {
     "name": "stdout",
     "output_type": "stream",
     "text": [
      "Collecting playsound\n",
      "  Downloading playsound-1.3.0.tar.gz (7.7 kB)\n",
      "  Preparing metadata (setup.py): started\n",
      "  Preparing metadata (setup.py): finished with status 'done'\n",
      "Building wheels for collected packages: playsound\n",
      "  Building wheel for playsound (setup.py): started\n",
      "  Building wheel for playsound (setup.py): finished with status 'done'\n",
      "  Created wheel for playsound: filename=playsound-1.3.0-py3-none-any.whl size=7046 sha256=94e0040dc8374dbdf132e0138cb44afe6e2ad53c23514b66a9b3a2f367208a34\n",
      "  Stored in directory: c:\\users\\bhasi\\appdata\\local\\pip\\cache\\wheels\\50\\98\\42\\62753a9e1fb97579a0ce2f84f7db4c21c09d03bb2091e6cef4\n",
      "Successfully built playsound\n",
      "Installing collected packages: playsound\n",
      "Successfully installed playsound-1.3.0\n"
     ]
    }
   ],
   "source": [
    "!pip install playsound"
   ]
  },
  {
   "cell_type": "code",
   "execution_count": 21,
   "id": "c740dcf2-5cf8-43c1-b34f-3d2fb98a7475",
   "metadata": {
    "tags": []
   },
   "outputs": [
    {
     "name": "stdout",
     "output_type": "stream",
     "text": [
      "Collecting pygame\n",
      "  Obtaining dependency information for pygame from https://files.pythonhosted.org/packages/82/61/93ae7afbd931a70510cfdf0a7bb0007540020b8d80bc1d8762ebdc46479b/pygame-2.5.2-cp311-cp311-win_amd64.whl.metadata\n",
      "  Downloading pygame-2.5.2-cp311-cp311-win_amd64.whl.metadata (13 kB)\n",
      "Downloading pygame-2.5.2-cp311-cp311-win_amd64.whl (10.8 MB)\n",
      "   ---------------------------------------- 0.0/10.8 MB ? eta -:--:--\n",
      "   ---------------------------------------- 0.0/10.8 MB 991.0 kB/s eta 0:00:11\n",
      "   ---------------------------------------- 0.1/10.8 MB 1.4 MB/s eta 0:00:08\n",
      "    --------------------------------------- 0.2/10.8 MB 1.3 MB/s eta 0:00:09\n",
      "   - -------------------------------------- 0.3/10.8 MB 1.9 MB/s eta 0:00:06\n",
      "   - -------------------------------------- 0.4/10.8 MB 1.6 MB/s eta 0:00:07\n",
      "   - -------------------------------------- 0.5/10.8 MB 1.8 MB/s eta 0:00:06\n",
      "   -- ------------------------------------- 0.6/10.8 MB 1.9 MB/s eta 0:00:06\n",
      "   -- ------------------------------------- 0.7/10.8 MB 2.0 MB/s eta 0:00:06\n",
      "   --- ------------------------------------ 0.8/10.8 MB 2.1 MB/s eta 0:00:05\n",
      "   --- ------------------------------------ 1.0/10.8 MB 2.1 MB/s eta 0:00:05\n",
      "   ---- ----------------------------------- 1.1/10.8 MB 2.2 MB/s eta 0:00:05\n",
      "   ---- ----------------------------------- 1.1/10.8 MB 2.2 MB/s eta 0:00:05\n",
      "   ---- ----------------------------------- 1.2/10.8 MB 2.1 MB/s eta 0:00:05\n",
      "   ----- ---------------------------------- 1.4/10.8 MB 2.2 MB/s eta 0:00:05\n",
      "   ----- ---------------------------------- 1.5/10.8 MB 2.2 MB/s eta 0:00:05\n",
      "   ------ --------------------------------- 1.7/10.8 MB 2.3 MB/s eta 0:00:04\n",
      "   ------- -------------------------------- 1.9/10.8 MB 2.4 MB/s eta 0:00:04\n",
      "   ------- -------------------------------- 2.0/10.8 MB 2.4 MB/s eta 0:00:04\n",
      "   ------- -------------------------------- 2.2/10.8 MB 2.4 MB/s eta 0:00:04\n",
      "   -------- ------------------------------- 2.4/10.8 MB 2.6 MB/s eta 0:00:04\n",
      "   --------- ------------------------------ 2.5/10.8 MB 2.5 MB/s eta 0:00:04\n",
      "   ---------- ----------------------------- 2.7/10.8 MB 2.6 MB/s eta 0:00:04\n",
      "   ---------- ----------------------------- 2.9/10.8 MB 2.8 MB/s eta 0:00:03\n",
      "   ----------- ---------------------------- 3.1/10.8 MB 2.8 MB/s eta 0:00:03\n",
      "   ------------ --------------------------- 3.3/10.8 MB 2.8 MB/s eta 0:00:03\n",
      "   ------------ --------------------------- 3.5/10.8 MB 2.9 MB/s eta 0:00:03\n",
      "   ------------- -------------------------- 3.7/10.8 MB 3.0 MB/s eta 0:00:03\n",
      "   -------------- ------------------------- 3.8/10.8 MB 3.0 MB/s eta 0:00:03\n",
      "   -------------- ------------------------- 4.0/10.8 MB 2.9 MB/s eta 0:00:03\n",
      "   --------------- ------------------------ 4.2/10.8 MB 3.0 MB/s eta 0:00:03\n",
      "   ---------------- ----------------------- 4.4/10.8 MB 3.1 MB/s eta 0:00:03\n",
      "   ----------------- ---------------------- 4.6/10.8 MB 3.1 MB/s eta 0:00:02\n",
      "   ----------------- ---------------------- 4.8/10.8 MB 3.2 MB/s eta 0:00:02\n",
      "   ------------------ --------------------- 4.9/10.8 MB 3.2 MB/s eta 0:00:02\n",
      "   ------------------ --------------------- 5.0/10.8 MB 3.1 MB/s eta 0:00:02\n",
      "   ------------------- -------------------- 5.1/10.8 MB 3.1 MB/s eta 0:00:02\n",
      "   ------------------- -------------------- 5.2/10.8 MB 3.1 MB/s eta 0:00:02\n",
      "   ------------------- -------------------- 5.4/10.8 MB 3.1 MB/s eta 0:00:02\n",
      "   -------------------- ------------------- 5.5/10.8 MB 3.1 MB/s eta 0:00:02\n",
      "   --------------------- ------------------ 5.7/10.8 MB 3.1 MB/s eta 0:00:02\n",
      "   --------------------- ------------------ 5.8/10.8 MB 3.1 MB/s eta 0:00:02\n",
      "   ---------------------- ----------------- 6.1/10.8 MB 3.1 MB/s eta 0:00:02\n",
      "   ----------------------- ---------------- 6.3/10.8 MB 3.2 MB/s eta 0:00:02\n",
      "   ------------------------ --------------- 6.6/10.8 MB 3.2 MB/s eta 0:00:02\n",
      "   ------------------------- -------------- 6.7/10.8 MB 3.2 MB/s eta 0:00:02\n",
      "   ------------------------- -------------- 7.0/10.8 MB 3.3 MB/s eta 0:00:02\n",
      "   -------------------------- ------------- 7.1/10.8 MB 3.3 MB/s eta 0:00:02\n",
      "   --------------------------- ------------ 7.3/10.8 MB 3.3 MB/s eta 0:00:02\n",
      "   ---------------------------- ----------- 7.5/10.8 MB 3.3 MB/s eta 0:00:01\n",
      "   ---------------------------- ----------- 7.8/10.8 MB 3.3 MB/s eta 0:00:01\n",
      "   ----------------------------- ---------- 8.0/10.8 MB 3.4 MB/s eta 0:00:01\n",
      "   ------------------------------ --------- 8.2/10.8 MB 3.4 MB/s eta 0:00:01\n",
      "   ------------------------------- -------- 8.4/10.8 MB 3.4 MB/s eta 0:00:01\n",
      "   ------------------------------- -------- 8.6/10.8 MB 3.4 MB/s eta 0:00:01\n",
      "   -------------------------------- ------- 8.7/10.8 MB 3.4 MB/s eta 0:00:01\n",
      "   --------------------------------- ------ 9.0/10.8 MB 3.5 MB/s eta 0:00:01\n",
      "   ---------------------------------- ----- 9.2/10.8 MB 3.5 MB/s eta 0:00:01\n",
      "   ----------------------------------- ---- 9.4/10.8 MB 3.5 MB/s eta 0:00:01\n",
      "   ----------------------------------- ---- 9.6/10.8 MB 3.5 MB/s eta 0:00:01\n",
      "   ------------------------------------ --- 9.7/10.8 MB 3.5 MB/s eta 0:00:01\n",
      "   ------------------------------------ --- 9.8/10.8 MB 3.5 MB/s eta 0:00:01\n",
      "   ------------------------------------ --- 9.8/10.8 MB 3.4 MB/s eta 0:00:01\n",
      "   ------------------------------------- -- 10.0/10.8 MB 3.4 MB/s eta 0:00:01\n",
      "   ------------------------------------- -- 10.1/10.8 MB 3.4 MB/s eta 0:00:01\n",
      "   ------------------------------------- -- 10.2/10.8 MB 3.4 MB/s eta 0:00:01\n",
      "   ------------------------------------- -- 10.2/10.8 MB 3.3 MB/s eta 0:00:01\n",
      "   -------------------------------------- - 10.3/10.8 MB 3.4 MB/s eta 0:00:01\n",
      "   ---------------------------------------  10.5/10.8 MB 3.5 MB/s eta 0:00:01\n",
      "   ---------------------------------------  10.6/10.8 MB 3.5 MB/s eta 0:00:01\n",
      "   ---------------------------------------  10.7/10.8 MB 3.4 MB/s eta 0:00:01\n",
      "   ---------------------------------------  10.8/10.8 MB 3.4 MB/s eta 0:00:01\n",
      "   ---------------------------------------  10.8/10.8 MB 3.4 MB/s eta 0:00:01\n",
      "   ---------------------------------------- 10.8/10.8 MB 3.3 MB/s eta 0:00:00\n",
      "Installing collected packages: pygame\n",
      "Successfully installed pygame-2.5.2\n",
      "Note: you may need to restart the kernel to use updated packages.\n"
     ]
    }
   ],
   "source": [
    "pip install pygame"
   ]
  },
  {
   "cell_type": "code",
   "execution_count": 22,
   "id": "1e97eb4a-9c29-4ff1-b34c-91c93ff9f128",
   "metadata": {
    "tags": []
   },
   "outputs": [
    {
     "name": "stdout",
     "output_type": "stream",
     "text": [
      "pygame 2.5.2 (SDL 2.28.3, Python 3.11.4)\n",
      "Hello from the pygame community. https://www.pygame.org/contribute.html\n"
     ]
    }
   ],
   "source": [
    "import pygame\n",
    "\n",
    "pygame.init()\n",
    "\n",
    "pygame.mixer.music.load(\"hello.mp3\")\n",
    "\n",
    "pygame.mixer.music.play()\n",
    "\n",
    "pygame.time.delay(5000) \n",
    "\n",
    "pygame.quit()\n"
   ]
  }
 ],
 "metadata": {
  "kernelspec": {
   "display_name": "Python 3 (ipykernel)",
   "language": "python",
   "name": "python3"
  },
  "language_info": {
   "codemirror_mode": {
    "name": "ipython",
    "version": 3
   },
   "file_extension": ".py",
   "mimetype": "text/x-python",
   "name": "python",
   "nbconvert_exporter": "python",
   "pygments_lexer": "ipython3",
   "version": "3.11.4"
  }
 },
 "nbformat": 4,
 "nbformat_minor": 5
}
